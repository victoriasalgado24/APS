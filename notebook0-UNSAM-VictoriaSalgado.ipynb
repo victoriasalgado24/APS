{
 "cells": [
  {
   "cell_type": "markdown",
   "metadata": {},
   "source": [
    "<img src=\"./logo_UNSAM.jpg\" align=\"right\" width=\"150\" /> \n",
    "\n",
    "#### Análisis y Procesamiento de Señales\n",
    "\n",
    "# Trabajo Práctico Nº0\n",
    "#### Nombre y Apellido: Victoria SALGADO\n"
   ]
  },
  {
   "cell_type": "markdown",
   "metadata": {},
   "source": [
    "# Introducción\n",
    "Jupyter Notebook es una herramienta para la confección de reportes técnicos, dado que permite la interacción en el mismo ambiente de: \n",
    "1. un procesador de texto elemental (formato Markdown) que permite resaltar texto, en forma de *itálica* o **negrita** de manera muy legible (haciendo doble click en este texto podrás ver el código fuente estilo Markdown). Cuenta con estilos predefinidos:\n",
    "\n",
    "# Título 1\n",
    "## Título 2\n",
    "### Título 3\n",
    "\n",
    "y también la capacidad de incluir enlaces a otras páginas, como por ejemplo [esta página](https://medium.com/ibm-data-science-experience/markdown-for-jupyter-notebooks-cheatsheet-386c05aeebed) donde encontrarás más funcionalidades del lenguaje **Markdown**\n",
    "\n",
    "2. capacidad para incluir lenguaje matemático estilo LaTex, tanto de forma presentada\n",
    "\n",
    "\\begin{equation}\n",
    "T(z) = \\frac{Y(z)}{X(z)} = \\frac{ b_2 \\, z^{-2} + b_1 \\,  z^{-1} + b_0 }\n",
    "{a_2 \\, z^{-2} + a_1 \\,  z^{-1} + a_0}\n",
    "\\end{equation}\n",
    "\n",
    "como *inline* en el propio párrafo $y[k] = \\frac{1}{a_0} \\left( \\sum_{m=0}^{M} b_m \\; x[k-m] - \\sum_{n=1}^{N} a_n \\; y[k-n] \\right) $\n",
    "\n",
    "3. La posibilidad de incluir scripts en Python, como los que usaremos para las simulaciones en los TPs de la materia. En este caso usaremos el *testbench0.py* como ejemplo. Una vez que lo probamos y estamos seguros que funciona de forma esperada en *Spyder*, podemos incluir los resultados de la simulación de manera casi transparente. Solo tenemos que agregar una celda de código donde incluimos el código, y los resultados directamente quedan incluidos en este documento."
   ]
  },
  {
   "cell_type": "markdown",
   "metadata": {},
   "source": [
    "## PROBANDO..."
   ]
  },
  {
   "cell_type": "code",
   "execution_count": 1,
   "metadata": {},
   "outputs": [
    {
     "ename": "ModuleNotFoundError",
     "evalue": "No module named 'pdsmodulos'",
     "output_type": "error",
     "traceback": [
      "\u001b[0;31m---------------------------------------------------------------------------\u001b[0m",
      "\u001b[0;31mModuleNotFoundError\u001b[0m                       Traceback (most recent call last)",
      "Cell \u001b[0;32mIn[1], line 29\u001b[0m\n\u001b[1;32m     27\u001b[0m \u001b[38;5;28;01mimport\u001b[39;00m\u001b[38;5;250m \u001b[39m\u001b[38;5;21;01mmatplotlib\u001b[39;00m\u001b[38;5;250m \u001b[39m\u001b[38;5;28;01mas\u001b[39;00m\u001b[38;5;250m \u001b[39m\u001b[38;5;21;01mmpl\u001b[39;00m\n\u001b[1;32m     28\u001b[0m \u001b[38;5;28;01mimport\u001b[39;00m\u001b[38;5;250m \u001b[39m\u001b[38;5;21;01mmatplotlib\u001b[39;00m\u001b[38;5;21;01m.\u001b[39;00m\u001b[38;5;21;01mpyplot\u001b[39;00m\u001b[38;5;250m \u001b[39m\u001b[38;5;28;01mas\u001b[39;00m\u001b[38;5;250m \u001b[39m\u001b[38;5;21;01mplt\u001b[39;00m\n\u001b[0;32m---> 29\u001b[0m \u001b[38;5;28;01mimport\u001b[39;00m\u001b[38;5;250m \u001b[39m\u001b[38;5;21;01mpdsmodulos\u001b[39;00m\u001b[38;5;250m \u001b[39m\u001b[38;5;28;01mas\u001b[39;00m\u001b[38;5;250m \u001b[39m\u001b[38;5;21;01mpds\u001b[39;00m\n\u001b[1;32m     32\u001b[0m \u001b[38;5;66;03m###################################\u001b[39;00m\n\u001b[1;32m     33\u001b[0m \u001b[38;5;66;03m## Formas de incluir comentarios ##\u001b[39;00m\n\u001b[1;32m     34\u001b[0m \u001b[38;5;66;03m###################################\u001b[39;00m\n\u001b[1;32m     35\u001b[0m \n\u001b[1;32m     36\u001b[0m \u001b[38;5;66;03m# Comentarios con \"#\"\u001b[39;00m\n\u001b[1;32m     38\u001b[0m \u001b[38;5;124;03m\"\"\" Bloques de comentario\u001b[39;00m\n\u001b[1;32m     39\u001b[0m \u001b[38;5;124;03m    bla bla bla\u001b[39;00m\n\u001b[1;32m     40\u001b[0m \u001b[38;5;124;03m    bla ...\u001b[39;00m\n\u001b[1;32m     41\u001b[0m \u001b[38;5;124;03m\"\"\"\u001b[39;00m\n",
      "\u001b[0;31mModuleNotFoundError\u001b[0m: No module named 'pdsmodulos'"
     ]
    }
   ],
   "source": [
    "#!/usr/bin/env python3\n",
    "# -*- coding: utf-8 -*-\n",
    "\"\"\"\n",
    "Created on ...\n",
    "\n",
    "@author: ...\n",
    "\n",
    "Descripción:\n",
    "------------\n",
    "\n",
    "Cada TP podrías estructurarlo mediante funciones definidas en \"testbenchs\" o \n",
    "archivos de prueba como este. Te pueden servir para ordenar tu trabajo y para \n",
    "poder pasar fácilmente a un jupyter notebook una vez que tengas bien probadas \n",
    "las funciones que necesites para responder cada punto del TP.\n",
    "\n",
    "Recordá que en \"pdsmodulos\" podés incluir todas las funciones más generales\n",
    "que te resulten útiles y reutilizarlas.\n",
    "\n",
    "\"\"\"\n",
    "\n",
    "# Ejemplificaremos el uso de las herramientas que utilizaremoos frecuentemente \n",
    "\n",
    "# Importación de módulos que utilizaremos en nuesto testbench:\n",
    "# Una vez invocadas estas funciones, podremos utilizar los módulos a través del identificador que indicamos luego de \"as\". \n",
    "# Por ejemplo np.linspace() -> función linspace dentro e NumPy\n",
    "import numpy as np\n",
    "import matplotlib as mpl\n",
    "import matplotlib.pyplot as plt\n",
    "import pdsmodulos as pds\n",
    "\n",
    "\n",
    "###################################\n",
    "## Formas de incluir comentarios ##\n",
    "###################################\n",
    "\n",
    "# Comentarios con \"#\"\n",
    "\n",
    "\"\"\" Bloques de comentario\n",
    "    bla bla bla\n",
    "    bla ...\n",
    "\"\"\"\n",
    "\n",
    "#%% Separación de bloques de código para ordenar tu trabajo \"#%%\"\n",
    "\n",
    "#%%  Inicialización\n",
    "\n",
    "#%%  Generación de señales de prueba\n",
    "\n",
    "#%%  Presentación de resultados\n",
    "\n",
    "\n",
    "#%%  Testbench: creamos una función que no recibe argumentos para asegurar que siempre encontraremos nuestro espacio de variables limpio.\n",
    "# Prestar atención al indentado, ya que Python interpreta en función del indentado !!\n",
    "\n",
    "def my_testbench( sig_type ):\n",
    "    \n",
    "    # Datos generales de la simulación\n",
    "    fs = 1000.0 # frecuencia de muestreo (Hz)\n",
    "    N = 1000   # cantidad de muestras\n",
    "    \n",
    "    ts = 1/fs # tiempo de muestreo\n",
    "    df = fs/N # resolución espectral\n",
    "    \n",
    "    # grilla de sampleo temporal\n",
    "    tt = np.linspace(0, (N-1)*ts, N).flatten()\n",
    "    \n",
    "    # grilla de sampleo frecuencial\n",
    "    ff = np.linspace(0, (N-1)*df, N).flatten()\n",
    "\n",
    "    # Concatenación de matrices:\n",
    "    # guardaremos las señales creadas al ir poblando la siguiente matriz vacía\n",
    "    x = np.array([], dtype=float).reshape(N,0)\n",
    "    ii = 0\n",
    "    \n",
    "    # estructuras de control de flujo\n",
    "    if sig_type['tipo'] == 'senoidal':\n",
    "    \n",
    "        \n",
    "        # calculo cada senoidal de acuerdo a sus parámetros\n",
    "        for this_freq in sig_type['frecuencia']:\n",
    "            # prestar atención que las tuplas dentro de los diccionarios también pueden direccionarse mediante \"ii\"\n",
    "            aux = sig_type['amplitud'][ii] * np.sin( 2*np.pi*this_freq*tt + sig_type['fase'][ii] )\n",
    "            # para concatenar horizontalmente es necesario cuidar que tengan iguales FILAS\n",
    "            x = np.hstack([x, aux.reshape(N,1)] )\n",
    "            ii += 1\n",
    "    \n",
    "    elif sig_type['tipo'] == 'ruido':\n",
    "        \n",
    "        # calculo cada señal de ruido incorrelado (blanco), Gausiano de acuerdo a sus parámetros\n",
    "        # de varianza\n",
    "        for this_var in sig_type['varianza']:\n",
    "            aux = np.sqrt(this_var) * np.random.randn(N,1)\n",
    "            # para concatenar horizontalmente es necesario cuidar que tengan iguales FILAS\n",
    "            x = np.hstack([x, aux] )\n",
    "        \n",
    "        # Podemos agregar algún dato extra a la descripción de forma programática\n",
    "        # {0:.3f} significa 0: primer argunmento de format\n",
    "        # .3f formato flotante, con 3 decimales\n",
    "        # $ ... $ indicamos que incluiremos sintaxis LaTex: $\\\\\\hat{{\\sigma}}^2$\n",
    "        sig_props['descripcion'] = [ sig_props['descripcion'][ii] + ' - $\\\\hat{{\\\\sigma}}^2$ :{0:.3f}'.format( np.var(x[:,ii]))  for ii in range(0,len(sig_props['descripcion'])) ]\n",
    "    \n",
    "    else:\n",
    "        \n",
    "        print(\"Tipo de señal no implementado.\")        \n",
    "        return\n",
    "        \n",
    "    #%% Presentación gráfica de los resultados\n",
    "    \n",
    "    plt.figure(1)\n",
    "    line_hdls = plt.plot(tt, x)\n",
    "    plt.title('Señal: ' + sig_type['tipo'] )\n",
    "    plt.xlabel('tiempo [segundos]')\n",
    "    plt.ylabel('Amplitud [V]')\n",
    "    #    plt.grid(which='both', axis='both')\n",
    "    \n",
    "    # presentar una leyenda para cada tipo de señal\n",
    "    axes_hdl = plt.gca()\n",
    "    \n",
    "    # este tipo de sintaxis es *MUY* de Python\n",
    "    axes_hdl.legend(line_hdls, sig_type['descripcion'], loc='upper right'  )\n",
    "    \n",
    "    plt.show()\n",
    "\n",
    "    \n",
    "        \n",
    "# Uso de diferentes tipos de datos en Python            \n",
    "\n",
    "## tipo de variable diccionario. Puedo crearlo iniciándolo mediante CONSTANTES\n",
    "\n",
    "#sig_props = { 'tipo': 'senoidal', \n",
    "#              'frecuencia': (3, 6, 9), # Uso de tuplas para las frecuencias \n",
    "#              'amplitud':   (1, 1,  1),\n",
    "#              'fase':       (0, 0,  0)\n",
    "#             } \n",
    "# # Como también puedo agregar un campo descripción de manera programática\n",
    "# # este tipo de sintaxis es *MUY* de Python\n",
    "# sig_props['descripcion'] = [ str(a_freq) + ' Hz' for a_freq in sig_props['frecuencia'] ]\n",
    "\n",
    "# Usar CTRL+1 para comentar o descomentar el bloque de abajo.\n",
    "sig_props = { 'tipo': 'ruido', \n",
    "              'varianza': (1, 1, 1) # Uso de tuplas para las frecuencias \n",
    "             } \n",
    "sig_props['descripcion'] = [ '$\\\\sigma^2$ = ' + str(a_var) for a_var in sig_props['varianza'] ]\n",
    "    \n",
    "# Invocamos a nuestro testbench exclusivamente: \n",
    "my_testbench( sig_props )\n",
    "    \n",
    "\n"
   ]
  },
  {
   "cell_type": "markdown",
   "metadata": {},
   "source": [
    "## A partir de acá ...\n",
    "\n",
    "Ahora podés volver a intercalar texto libremente, por ejemplo para explicar que el bloque anterior se encarga de cargar funciones y módulos y que lo podés hacer solamente una vez al principio, o donde lo necesites. A partir de acá podés intercalar tu código o tantas celdas de texto como necesites. Por ejemplo, comenzaremos con un manuscrito escaneado, donde por ejemplo, podrías incluir la resolución de un problema que se te pida en clase:\n"
   ]
  },
  {
   "cell_type": "code",
   "execution_count": null,
   "metadata": {},
   "outputs": [],
   "source": [
    "from IPython.display import IFrame\n",
    "IFrame(\"./lapiz_y_papel.pdf\", width=1000, height=1000)\n"
   ]
  },
  {
   "cell_type": "markdown",
   "metadata": {},
   "source": [
    "## Retomando el código\n",
    "\n",
    "Dado que nuestro *testbench* ha sido desarrollado de manera funcional, llamando a la función *my_testbench()* con diferentes parámetros, podemos lograr funcionalidades diferentes, como mostramos a continuación primero con una senoidal:"
   ]
  },
  {
   "cell_type": "code",
   "execution_count": null,
   "metadata": {},
   "outputs": [],
   "source": [
    "sig_props = { 'tipo': 'senoidal', \n",
    "              'frecuencia': (3, 10, 20), # Uso de tuplas para las frecuencias \n",
    "              'amplitud':   (1, 1,  1),\n",
    "              'fase':       (0, 0,  0)\n",
    "             } \n",
    "# Como también puedo agregar un campo descripción de manera programática\n",
    "# este tipo de sintaxis es *MUY* de Python\n",
    "sig_props['descripcion'] = [ str(a_freq) + ' Hz' for a_freq in sig_props['frecuencia'] ]\n",
    "    \n",
    "# Invocamos a nuestro testbench exclusivamente: \n",
    "my_testbench( sig_props )"
   ]
  },
  {
   "cell_type": "markdown",
   "metadata": {},
   "source": [
    "Y ahora con una señal aleatoria, en este caso ruido blanco Gaussiano incorrelado de varianza $\\sigma^2$:"
   ]
  },
  {
   "cell_type": "code",
   "execution_count": null,
   "metadata": {},
   "outputs": [],
   "source": [
    "# Usar CTRL+1 para comentar o descomentar el bloque de abajo.\n",
    "sig_props = { 'tipo': 'ruido', \n",
    "              'varianza': (1, 1, 1) # Uso de tuplas para las frecuencias \n",
    "             } \n",
    "sig_props['descripcion'] = [ '$\\sigma^2$ = ' + str(a_var) for a_var in sig_props['varianza'] ]\n",
    "    \n",
    "# Invocamos a nuestro testbench exclusivamente: \n",
    "my_testbench( sig_props )\n"
   ]
  },
  {
   "cell_type": "markdown",
   "metadata": {},
   "source": [
    "Como puede verse en la figura anterior, al samplear una distribución estadística de media nula y varianza $\\sigma^2=1$, obtenemos realizaciones cuyo parámetro $\\sigma^2$ estimado, es decir $\\hat\\sigma^2$, tienen una desviación respecto al verdadero valor (sesgo). Nos ocuparemos de estudiar el sesgo y la varianza de algunos estimadores cuando veamos **Estimación Espectral**."
   ]
  },
  {
   "cell_type": "markdown",
   "metadata": {
    "jp-MarkdownHeadingCollapsed": true
   },
   "source": [
    "# FINAL DEL DOCUMENTO\n",
    "## ¿QUE HICE?\n",
    "Agregue mi nombre y apellido, y también celdas de texto *formateadas*. Este es un notebook de **prueba**.\n",
    "Por ultimo, adjunto una imagen:\n",
    "\n",
    "<img src = \"https://thumbs.dreamstime.com/b/smiley-cara-feliz-del-vector-94248929.jpg\" width=\"100\" height=\"300\">\n",
    "\n"
   ]
  },
  {
   "cell_type": "markdown",
   "metadata": {},
   "source": [
    "# Una vez terminado ...\n",
    "Una vez que hayas termiando con la confección del documento, podemos utilizar una ventaja muy importante de este tipo de documentos que es la posibilidad de compartirlos *online* mediante la [página de nbviewer](http://nbviewer.jupyter.org/). Para ello es necesario que tu notebook y todos los recursos asociados estén alojados en un repositorio de [Github](https://github.com/). Como ejemplo, podés ver este mismo documento disponible [online](http://nbviewer.jupyter.org/github/marianux/pdstestbench/blob/master/notebook0.ipynb)."
   ]
  }
 ],
 "metadata": {
  "kernelspec": {
   "display_name": "Python 3 (ipykernel)",
   "language": "python",
   "name": "python3"
  },
  "language_info": {
   "codemirror_mode": {
    "name": "ipython",
    "version": 3
   },
   "file_extension": ".py",
   "mimetype": "text/x-python",
   "name": "python",
   "nbconvert_exporter": "python",
   "pygments_lexer": "ipython3",
   "version": "3.10.12"
  }
 },
 "nbformat": 4,
 "nbformat_minor": 4
}
